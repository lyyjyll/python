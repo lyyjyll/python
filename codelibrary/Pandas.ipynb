{
 "cells": [
  {
   "cell_type": "markdown",
   "source": [
    "1.创建一个DataFrame"
   ],
   "metadata": {}
  },
  {
   "cell_type": "code",
   "execution_count": 5,
   "source": [
    "import pandas as pd\r\n",
    "import numpy as np\r\n",
    "\r\n",
    "df = pd.DataFrame(np.arange(1,13).reshape(3,4))\r\n",
    "df.columns = ['one','two','three','four']\r\n",
    "df.index = ['Tom','Peter','Linux']\r\n",
    "print(df)\r\n"
   ],
   "outputs": [
    {
     "output_type": "stream",
     "name": "stdout",
     "text": [
      "       one  two  three  four\n",
      "Tom      1    2      3     4\n",
      "Peter    5    6      7     8\n",
      "Linux    9   10     11    12\n"
     ]
    }
   ],
   "metadata": {}
  },
  {
   "cell_type": "markdown",
   "source": [
    "2.高亮某些值"
   ],
   "metadata": {}
  },
  {
   "cell_type": "code",
   "execution_count": 9,
   "source": [
    "df.style.highlight_between(subset=['one','four'],left=1.5, right=8.5,props='font-weight:bold;color:green')"
   ],
   "outputs": [
    {
     "output_type": "execute_result",
     "data": {
      "text/html": [
       "<style type=\"text/css\">\n",
       "#T_40919_row0_col3, #T_40919_row1_col0, #T_40919_row1_col3 {\n",
       "  font-weight: bold;\n",
       "  color: green;\n",
       "}\n",
       "</style>\n",
       "<table id=\"T_40919_\">\n",
       "  <thead>\n",
       "    <tr>\n",
       "      <th class=\"blank level0\" >&nbsp;</th>\n",
       "      <th class=\"col_heading level0 col0\" >one</th>\n",
       "      <th class=\"col_heading level0 col1\" >two</th>\n",
       "      <th class=\"col_heading level0 col2\" >three</th>\n",
       "      <th class=\"col_heading level0 col3\" >four</th>\n",
       "    </tr>\n",
       "  </thead>\n",
       "  <tbody>\n",
       "    <tr>\n",
       "      <th id=\"T_40919_level0_row0\" class=\"row_heading level0 row0\" >Tom</th>\n",
       "      <td id=\"T_40919_row0_col0\" class=\"data row0 col0\" >1</td>\n",
       "      <td id=\"T_40919_row0_col1\" class=\"data row0 col1\" >2</td>\n",
       "      <td id=\"T_40919_row0_col2\" class=\"data row0 col2\" >3</td>\n",
       "      <td id=\"T_40919_row0_col3\" class=\"data row0 col3\" >4</td>\n",
       "    </tr>\n",
       "    <tr>\n",
       "      <th id=\"T_40919_level0_row1\" class=\"row_heading level0 row1\" >Peter</th>\n",
       "      <td id=\"T_40919_row1_col0\" class=\"data row1 col0\" >5</td>\n",
       "      <td id=\"T_40919_row1_col1\" class=\"data row1 col1\" >6</td>\n",
       "      <td id=\"T_40919_row1_col2\" class=\"data row1 col2\" >7</td>\n",
       "      <td id=\"T_40919_row1_col3\" class=\"data row1 col3\" >8</td>\n",
       "    </tr>\n",
       "    <tr>\n",
       "      <th id=\"T_40919_level0_row2\" class=\"row_heading level0 row2\" >Linux</th>\n",
       "      <td id=\"T_40919_row2_col0\" class=\"data row2 col0\" >9</td>\n",
       "      <td id=\"T_40919_row2_col1\" class=\"data row2 col1\" >10</td>\n",
       "      <td id=\"T_40919_row2_col2\" class=\"data row2 col2\" >11</td>\n",
       "      <td id=\"T_40919_row2_col3\" class=\"data row2 col3\" >12</td>\n",
       "    </tr>\n",
       "  </tbody>\n",
       "</table>\n"
      ],
      "text/plain": [
       "<pandas.io.formats.style.Styler at 0x28f633f98e0>"
      ]
     },
     "metadata": {},
     "execution_count": 9
    }
   ],
   "metadata": {}
  },
  {
   "cell_type": "code",
   "execution_count": 10,
   "source": [
    "df.style.highlight_max(subset=['two'],color='orange')"
   ],
   "outputs": [
    {
     "output_type": "execute_result",
     "data": {
      "text/html": [
       "<style type=\"text/css\">\n",
       "#T_66b76_row2_col1 {\n",
       "  background-color: orange;\n",
       "}\n",
       "</style>\n",
       "<table id=\"T_66b76_\">\n",
       "  <thead>\n",
       "    <tr>\n",
       "      <th class=\"blank level0\" >&nbsp;</th>\n",
       "      <th class=\"col_heading level0 col0\" >one</th>\n",
       "      <th class=\"col_heading level0 col1\" >two</th>\n",
       "      <th class=\"col_heading level0 col2\" >three</th>\n",
       "      <th class=\"col_heading level0 col3\" >four</th>\n",
       "    </tr>\n",
       "  </thead>\n",
       "  <tbody>\n",
       "    <tr>\n",
       "      <th id=\"T_66b76_level0_row0\" class=\"row_heading level0 row0\" >Tom</th>\n",
       "      <td id=\"T_66b76_row0_col0\" class=\"data row0 col0\" >1</td>\n",
       "      <td id=\"T_66b76_row0_col1\" class=\"data row0 col1\" >2</td>\n",
       "      <td id=\"T_66b76_row0_col2\" class=\"data row0 col2\" >3</td>\n",
       "      <td id=\"T_66b76_row0_col3\" class=\"data row0 col3\" >4</td>\n",
       "    </tr>\n",
       "    <tr>\n",
       "      <th id=\"T_66b76_level0_row1\" class=\"row_heading level0 row1\" >Peter</th>\n",
       "      <td id=\"T_66b76_row1_col0\" class=\"data row1 col0\" >5</td>\n",
       "      <td id=\"T_66b76_row1_col1\" class=\"data row1 col1\" >6</td>\n",
       "      <td id=\"T_66b76_row1_col2\" class=\"data row1 col2\" >7</td>\n",
       "      <td id=\"T_66b76_row1_col3\" class=\"data row1 col3\" >8</td>\n",
       "    </tr>\n",
       "    <tr>\n",
       "      <th id=\"T_66b76_level0_row2\" class=\"row_heading level0 row2\" >Linux</th>\n",
       "      <td id=\"T_66b76_row2_col0\" class=\"data row2 col0\" >9</td>\n",
       "      <td id=\"T_66b76_row2_col1\" class=\"data row2 col1\" >10</td>\n",
       "      <td id=\"T_66b76_row2_col2\" class=\"data row2 col2\" >11</td>\n",
       "      <td id=\"T_66b76_row2_col3\" class=\"data row2 col3\" >12</td>\n",
       "    </tr>\n",
       "  </tbody>\n",
       "</table>\n"
      ],
      "text/plain": [
       "<pandas.io.formats.style.Styler at 0x28f633f94f0>"
      ]
     },
     "metadata": {},
     "execution_count": 10
    }
   ],
   "metadata": {}
  },
  {
   "cell_type": "markdown",
   "source": [
    "3.保存至Excel中"
   ],
   "metadata": {}
  },
  {
   "cell_type": "code",
   "execution_count": null,
   "source": [
    "#保存至新的工作簿中\r\n",
    "df.to_excel('data.xlsx',sheet_name=\"data\")"
   ],
   "outputs": [],
   "metadata": {}
  },
  {
   "cell_type": "code",
   "execution_count": null,
   "source": [
    "from openpyxl import load_workbook\r\n",
    "#追加到已有的工作部中\r\n",
    "def save2sheet(df,url='data.xlsx',sheetname='data'):\r\n",
    "    '''\r\n",
    "    将新的df保存至已存在的工作簿中,可以指定sheetname工作表名称\r\n",
    "    '''\r\n",
    "    \r\n",
    "    book = load_workbook(url)\r\n",
    "    writer=pd.ExcelWriter(url,engine='openpyxl')\r\n",
    "    writer.book = book\r\n",
    "    df.to_excel(writer,sheetname)\r\n",
    "    writer.save()"
   ],
   "outputs": [],
   "metadata": {}
  }
 ],
 "metadata": {
  "orig_nbformat": 4,
  "language_info": {
   "name": "python",
   "version": "3.8.10",
   "mimetype": "text/x-python",
   "codemirror_mode": {
    "name": "ipython",
    "version": 3
   },
   "pygments_lexer": "ipython3",
   "nbconvert_exporter": "python",
   "file_extension": ".py"
  },
  "kernelspec": {
   "name": "python3",
   "display_name": "Python 3.8.10 64-bit ('datascience': conda)"
  },
  "interpreter": {
   "hash": "e4577f84b0cc49b377bbdd3aebc762ca13cae746c03033f4382fe532931f9c94"
  }
 },
 "nbformat": 4,
 "nbformat_minor": 2
}