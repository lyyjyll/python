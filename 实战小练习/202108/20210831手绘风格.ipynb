{
 "cells": [
  {
   "cell_type": "code",
   "execution_count": 1,
   "source": [
    "from cutecharts.charts import Pie\r\n",
    "from cutecharts.components import Page\r\n",
    "from cutecharts.faker import Faker\r\n",
    "import numpy as np\r\n",
    "\r\n",
    "#a = [x for x in range(10)]\r\n",
    "a = [x**2 for x in range(5)]\r\n",
    "x = list(10*(16*np.sin(a)**3))\r\n",
    "#y = 10*(13*np.cos(a)-5*np.cos(2*a)-2*np.cos(3*a)-np.cos(4*a))\r\n",
    "\r\n",
    "def pie_base() -> Pie:\r\n",
    "    labels = [str(x+1) for x in range(5)]\r\n",
    "    chart = Pie(\"Pie-Examples\")\r\n",
    "    chart.set_options(labels=labels)\r\n",
    "    chart.add_series(a)\r\n",
    "    #chart.add_series(x)\r\n",
    "    return chart\r\n",
    "\r\n",
    "\r\n",
    "pie_base().render()"
   ],
   "outputs": [
    {
     "output_type": "execute_result",
     "data": {
      "text/plain": [
       "'\\n<!DOCTYPE html>\\n<html lang=\"en\">\\n<head>\\n    <meta charset=\"UTF-8\">\\n        <script type=\"text/javascript\" src=\"https://cdn.jsdelivr.net/npm/chart.xkcd@1.1/dist/chart.xkcd.min.js\"></script>\\n</head>\\n<body>\\n    <div id=\"eedf46b465214339921c3922e2ce67f9\" class=\"chart-container\" style=\"width: 800px\">\\n        <svg id=\"chart_eedf46b465214339921c3922e2ce67f9\"></svg>\\n    </div>\\n    <script>\\n        const svg_eedf46b465214339921c3922e2ce67f9 = document.querySelector(\\'#chart_eedf46b465214339921c3922e2ce67f9\\')\\n        const chart_eedf46b465214339921c3922e2ce67f9 = new chartXkcd.Pie(svg_eedf46b465214339921c3922e2ce67f9, {\"title\": \"Pie-Examples\", \"data\": {\"datasets\": [{\"data\": [0, 1, 4, 9, 16]}], \"labels\": [\"1\", \"2\", \"3\", \"4\", \"5\"]}, \"options\": {\"innerRadius\": 0.5, \"legendPosition\": 1}});\\n    </script>\\n</body>\\n</html>\\n'"
      ]
     },
     "metadata": {},
     "execution_count": 1
    }
   ],
   "metadata": {}
  },
  {
   "cell_type": "code",
   "execution_count": 14,
   "source": [
    "from cutecharts.charts import Radar\r\n",
    "from cutecharts.components import Page\r\n",
    "from cutecharts.faker import Faker\r\n",
    "\r\n",
    "a = [x for x in range(20)]\r\n",
    "x = list(10*(16*np.sin(a)**3))\r\n",
    "\r\n",
    "\r\n",
    "def radar_base() -> Radar:\r\n",
    "    labels = [str(i+1) for i in range(20)]\r\n",
    "    chart = Radar(\"I am very happy!\")\r\n",
    "    chart.set_options(labels=labels)\r\n",
    "    #print(Faker.choose())\r\n",
    "    chart.add_series(\"学习\", x)\r\n",
    "    #print(Faker.values())\r\n",
    "    chart.add_series(\"生活\", a)\r\n",
    "    return chart\r\n",
    "\r\n",
    "\r\n",
    "radar_base().render()"
   ],
   "outputs": [
    {
     "output_type": "execute_result",
     "data": {
      "text/plain": [
       "'\\n<!DOCTYPE html>\\n<html lang=\"en\">\\n<head>\\n    <meta charset=\"UTF-8\">\\n        <script type=\"text/javascript\" src=\"https://cdn.jsdelivr.net/npm/chart.xkcd@1.1/dist/chart.xkcd.min.js\"></script>\\n</head>\\n<body>\\n    <div id=\"ce279903613542c4950772d86c0fad17\" class=\"chart-container\" style=\"width: 800px\">\\n        <svg id=\"chart_ce279903613542c4950772d86c0fad17\"></svg>\\n    </div>\\n    <script>\\n        const svg_ce279903613542c4950772d86c0fad17 = document.querySelector(\\'#chart_ce279903613542c4950772d86c0fad17\\')\\n        const chart_ce279903613542c4950772d86c0fad17 = new chartXkcd.Radar(svg_ce279903613542c4950772d86c0fad17, {\"title\": \"I am very happy!\", \"data\": {\"datasets\": [{\"label\": \"\\\\u5b66\\\\u4e60\", \"data\": [0.0, 95.33171785455289, 120.29231114703884, 0.44966155751380377, -69.35338271693398, -141.08242656586128, -3.49036991300406, 45.37216630481244, 154.94612407507077, 11.19918109283067, -25.7612683430099, -159.9952991903751, -24.717596022327562, 11.868228967833401, 155.5337446000098, 43.99839983748927, -3.8182115468611637, -142.1768660592818, -67.7669076585365, 0.5386749496412814]}, {\"label\": \"\\\\u751f\\\\u6d3b\", \"data\": [0, 1, 2, 3, 4, 5, 6, 7, 8, 9, 10, 11, 12, 13, 14, 15, 16, 17, 18, 19]}], \"labels\": [\"1\", \"2\", \"3\", \"4\", \"5\", \"6\", \"7\", \"8\", \"9\", \"10\", \"11\", \"12\", \"13\", \"14\", \"15\", \"16\", \"17\", \"18\", \"19\", \"20\"]}, \"options\": {\"showLegend\": true, \"showLabel\": true, \"tickCount\": 3, \"legendPosition\": 1}});\\n    </script>\\n</body>\\n</html>\\n'"
      ]
     },
     "metadata": {},
     "execution_count": 14
    }
   ],
   "metadata": {}
  }
 ],
 "metadata": {
  "orig_nbformat": 4,
  "language_info": {
   "name": "python",
   "version": "3.7.11",
   "mimetype": "text/x-python",
   "codemirror_mode": {
    "name": "ipython",
    "version": 3
   },
   "pygments_lexer": "ipython3",
   "nbconvert_exporter": "python",
   "file_extension": ".py"
  },
  "kernelspec": {
   "name": "python3",
   "display_name": "Python 3.7.11 64-bit ('test123': conda)"
  },
  "interpreter": {
   "hash": "a8a542277fbd29c4c439a1d31dde31f9aa254d7ae7226a50f016a64daa4df0c6"
  }
 },
 "nbformat": 4,
 "nbformat_minor": 2
}