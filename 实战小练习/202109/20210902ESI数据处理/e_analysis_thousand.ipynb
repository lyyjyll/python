{
 "cells": [
  {
   "cell_type": "code",
   "execution_count": 4,
   "source": [
    "import pandas as pd\r\n",
    "from openpyxl import load_workbook\r\n",
    "from c_shanghaibeijing_thousand import save_to_sheet,read_data\r\n",
    "\r\n",
    "\r\n",
    "def count_displine(df,pro):\r\n",
    "    df_group = df.groupby('学科').count()\r\n",
    "    df_dis_count = df_group.iloc[:,[0]]\r\n",
    "    df_dis_count.columns = [pro+'千分之一学科数']\r\n",
    "    return df_dis_count\r\n",
    "\r\n",
    "def main():\r\n",
    "    url = '20210902ESI分学科.xlsx'\r\n",
    "    pro_list = ['北京','上海','江苏']\r\n",
    "    df_compare = []\r\n",
    "    for pro in pro_list:\r\n",
    "        df_pro = count_displine(read_data(url,pro+'千分之一'),pro)\r\n",
    "        df_compare.append(df_pro)\r\n",
    "    df_end = pd.concat(df_compare,axis=1,join='outer')\r\n",
    "    df_end.fillna('',inplace=True)\r\n",
    "    save_to_sheet(df_end,url,'千分之一比较')\r\n",
    "\r\n",
    "main()\r\n",
    "\r\n",
    "\r\n"
   ],
   "outputs": [
    {
     "output_type": "stream",
     "name": "stdout",
     "text": [
      "          北京千分之一学科数 上海千分之一学科数 江苏千分之一学科数\n",
      "学科                                     \n",
      "临床医学            4.0       3.0       2.0\n",
      "农业科学            2.0                 2.0\n",
      "化学              4.0       4.0       3.0\n",
      "地质学             2.0                 1.0\n",
      "工程学             8.0       3.0       7.0\n",
      "材料科学            7.0       3.0       3.0\n",
      "植物学与动物科学        2.0                 1.0\n",
      "物理学             2.0                    \n",
      "环境生态学           4.0                 1.0\n",
      "生物学与生物化学        2.0       1.0          \n",
      "药理学与毒理学         3.0       2.0       2.0\n",
      "计算机科学           3.0       1.0       2.0\n",
      "分子生物学与遗传学                 1.0          \n"
     ]
    }
   ],
   "metadata": {}
  }
 ],
 "metadata": {
  "orig_nbformat": 4,
  "language_info": {
   "name": "python",
   "version": "3.8.10",
   "mimetype": "text/x-python",
   "codemirror_mode": {
    "name": "ipython",
    "version": 3
   },
   "pygments_lexer": "ipython3",
   "nbconvert_exporter": "python",
   "file_extension": ".py"
  },
  "kernelspec": {
   "name": "python3",
   "display_name": "Python 3.8.10 64-bit ('datascience': conda)"
  },
  "interpreter": {
   "hash": "e4577f84b0cc49b377bbdd3aebc762ca13cae746c03033f4382fe532931f9c94"
  }
 },
 "nbformat": 4,
 "nbformat_minor": 2
}